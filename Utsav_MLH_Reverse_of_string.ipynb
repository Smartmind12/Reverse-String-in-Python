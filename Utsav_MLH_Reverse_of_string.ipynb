{
  "nbformat": 4,
  "nbformat_minor": 0,
  "metadata": {
    "colab": {
      "name": "Utsav MLH Reverse of string.ipynb",
      "provenance": []
    },
    "kernelspec": {
      "name": "python3",
      "display_name": "Python 3"
    },
    "language_info": {
      "name": "python"
    }
  },
  "cells": [
    {
      "cell_type": "markdown",
      "source": [
        "# Python code to reverse a string using extended slice syntax\n",
        "\n"
      ],
      "metadata": {
        "id": "ceapGae11SG1"
      }
    },
    {
      "cell_type": "code",
      "execution_count": 2,
      "metadata": {
        "colab": {
          "base_uri": "https://localhost:8080/"
        },
        "id": "0TiRAEUi0MZT",
        "outputId": "a6708939-f18d-4c23-bf1c-0d441cafd5bf"
      },
      "outputs": [
        {
          "output_type": "stream",
          "name": "stdout",
          "text": [
            "Please Select a string to be reversed:hello world\n",
            "The original string is : hello world\n",
            "The reversed string(using extended slice syntax) is : dlrow olleh\n"
          ]
        }
      ],
      "source": [
        "# Here we ask the User to Input String to be Reversed\n",
        "original_string = input(\"Please Select a string to be reversed:\")\n",
        "print (\"The original string is : \",end=\"\")\n",
        "print (original_string)\n",
        "\n",
        "# Here we define the Function to reverse a string\n",
        "def reverse(string):\n",
        "    string = string[::-1]\n",
        "    return string\n",
        "# Here we find the result after finding the reversed string\n",
        "print (\"The reversed string(using extended slice syntax) is : \",end=\"\")\n",
        "print (reverse(original_string))"
      ]
    },
    {
      "cell_type": "markdown",
      "source": [
        "# Python code to reverse a string using reversed inbuilt function"
      ],
      "metadata": {
        "id": "jR6Z1Twx7_ac"
      }
    },
    {
      "cell_type": "code",
      "source": [
        "# Here we ask the User to Input String to be Reversed\n",
        "original_string = input(\"Please Select a string to be reversed:\")\n",
        "print (\"The original string is : \",end=\"\")\n",
        "print (original_string)\n",
        "\n",
        "# Here we define the Function to reverse a string using inbuilt function\n",
        "def reverse(string):\n",
        "    string = \"\".join(reversed(string))\n",
        "    return string\n",
        "  \n",
        "# Here we find the result after finding the reversed string\n",
        "print (\"The reversed string(using reversed function) is : \",end=\"\")\n",
        "print (reverse(original_string))"
      ],
      "metadata": {
        "colab": {
          "base_uri": "https://localhost:8080/"
        },
        "id": "PMsQpmww0b9T",
        "outputId": "8cbec0ed-1bff-4c97-e33f-1ae3e0c11dd0"
      },
      "execution_count": 3,
      "outputs": [
        {
          "output_type": "stream",
          "name": "stdout",
          "text": [
            "Please Select a string to be reversed:take care everyone\n",
            "The original string is : take care everyone\n",
            "The reversed string(using reversed function) is : enoyreve erac ekat\n"
          ]
        }
      ]
    },
    {
      "cell_type": "markdown",
      "source": [
        "# Python code to reverse a string using \"for\" loop function"
      ],
      "metadata": {
        "id": "N9rNo8jE-6St"
      }
    },
    {
      "cell_type": "code",
      "source": [
        "# Here we ask the User to Input String to be Reversed\n",
        "original_string = input(\"Please Select a string to be reversed:\")\n",
        "print (\"The original string is : \",end=\"\")\n",
        "print (original_string)\n",
        "\n",
        "# Here we define the Function to reverse a string using for loop\n",
        "def reverse(string):\n",
        "  str = \"\"\n",
        "  for i in string:\n",
        "    str = i + str\n",
        "  return str\n",
        "\n",
        "# Here we find the result after finding the reversed string\n",
        "print (\"The reversed string(using reversed function) is : \",end=\"\")\n",
        "print (reverse(original_string))"
      ],
      "metadata": {
        "colab": {
          "base_uri": "https://localhost:8080/"
        },
        "id": "lY8oI95y0kts",
        "outputId": "bab03bb6-bf20-40a1-8c6b-93624a95464e"
      },
      "execution_count": 4,
      "outputs": [
        {
          "output_type": "stream",
          "name": "stdout",
          "text": [
            "Please Select a string to be reversed:hacking is great\n",
            "The original string is : hacking is great\n",
            "The reversed string(using reversed function) is : taerg si gnikcah\n"
          ]
        }
      ]
    }
  ]
}